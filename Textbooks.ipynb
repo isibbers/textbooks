{
 "cells": [
  {
   "cell_type": "code",
   "execution_count": 5,
   "metadata": {},
   "outputs": [],
   "source": [
    "from bs4 import BeautifulSoup\n",
    "soup = BeautifulSoup(page.content, 'html.parser')\n"
   ]
  },
  {
   "cell_type": "code",
   "execution_count": 6,
   "metadata": {},
   "outputs": [],
   "source": [
    "headers = {'User-Agent': 'Mozilla/5.0 (Macintosh; Intel Mac OS X 10_10_1) AppleWebKit/537.36 (KHTML, like Gecko) Chrome/39.0.2171.95 Safari/537.36'}\n",
    "\n"
   ]
  },
  {
   "cell_type": "code",
   "execution_count": 7,
   "metadata": {},
   "outputs": [
    {
     "data": {
      "text/plain": [
       "<Response [200]>"
      ]
     },
     "execution_count": 7,
     "metadata": {},
     "output_type": "execute_result"
    }
   ],
   "source": [
    "import requests\n",
    "page = requests.get(\"https://www.directtextbook.com/ourpricetable.php?ean=9780312541248\", headers = headers)\n",
    "soup = BeautifulSoup(page.content, 'html.parser')\n",
    "\n",
    "page"
   ]
  },
  {
   "cell_type": "code",
   "execution_count": 48,
   "metadata": {},
   "outputs": [
    {
     "name": "stdout",
     "output_type": "stream",
     "text": [
      "['(why?)', '', 'Amazon.com Kindle', '', 'See Site', '', '', 'Amazon Marketplace', '', '[+]', '$8.85', '', '', 'Amazon Marketplace', '', '[+]', '$13.28', '', '', 'Amazon.com', '', '$25.98', '', '', 'eCampus', '', '[+]', 'w/ DT cash back', '$5.93', 'Coupon', '', 'w/ DT cash back', '', 'eBooks.com', '', 'w/ DT cash back', '$7.19', 'Coupon', '', 'w/ DT cash back', '', 'eBay', '', '[+]', '$5.98', '', '', 'eBay', '', '[+]', '$7.48', '', '', 'RedShelf', '', '$7.99', '', '', 'eCampus', '', '[+]', '$9.69', 'Coupon', '', '', 'Amazon.com Kindle', '\\n', 'See Site', '', '', 'eBay', '\\n', '[+]', '$5.98', '', '', 'BiggerBooks', '\\n', '$6.05', 'Coupon', '', '', 'eCampus', '\\n', '[+]', '$6.05', 'Coupon', '', '', 'Valore\\xa0Books', '\\n', '[+]', '$6.64', '', '$8.27', 'Visit\\xa0Store', '$11.31', 'Visit\\xa0Store', '$18.44', 'Visit\\xa0Store', '+ more from Valore\\xa0Books...', '$19.88', 'Visit\\xa0Store', '$20.93', 'Visit\\xa0Store', '$20.97', 'Visit\\xa0Store', '+ more from Valore\\xa0Books...', '$22.40', 'Visit\\xa0Store', '$23.56', 'Visit\\xa0Store', '$42.13', 'Visit\\xa0Store', '', 'Alibris', '\\n', '[+]', '$6.68', '', '$8.86', 'Visit\\xa0Store', '$11.48', 'Visit\\xa0Store', '$11.48', 'Visit\\xa0Store', '+ more from Alibris...', '$11.48', 'Visit\\xa0Store', '$11.59', 'Visit\\xa0Store', '$13.01', 'Visit\\xa0Store', '+ more from Alibris...', '$13.01', 'Visit\\xa0Store', '$14.31', 'Visit\\xa0Store', '$14.31', 'Visit\\xa0Store', '+ more from Alibris...', '$14.61', 'Visit\\xa0Store', '$16.16', 'Visit\\xa0Store', '$17.20', 'Visit\\xa0Store', '+ more from Alibris...', '$17.44', 'Visit\\xa0Store', '', 'eCampus Marketplace', '\\n', '[+]', '$6.95', '', '$9.35', 'Visit\\xa0Store', '$12.23', 'Visit\\xa0Store', '$12.23', 'Visit\\xa0Store', '+ more from eCampus Marketplace...', '$12.23', 'Visit\\xa0Store', '$13.91', 'Visit\\xa0Store', '$13.91', 'Visit\\xa0Store', '+ more from eCampus Marketplace...', '$15.34', 'Visit\\xa0Store', '$15.34', 'Visit\\xa0Store', '$15.40', 'Visit\\xa0Store', '+ more from eCampus Marketplace...', '$15.67', 'Visit\\xa0Store', '$17.38', 'Visit\\xa0Store', '$18.96', 'Visit\\xa0Store', '', 'eBay', '\\n', '[+]', '$7.48', '', '', 'B&N\\xa0Marketplace', '\\n', '$7.48', '', '', 'Textbooks Marketplace', '\\n', '[+]', '$7.48', '', '$7.49', 'Visit\\xa0Store', '$8.98', 'Visit\\xa0Store', '$9.86', 'Visit\\xa0Store', '+ more from Textbooks.com Marketplace...', '$12.48', 'Visit\\xa0Store', '$12.48', 'Visit\\xa0Store', '$12.48', 'Visit\\xa0Store', '', 'Biblio', '\\n', '[+]', '$7.62', '', '$18.40', 'Visit\\xa0Store', '$20.81', 'Visit\\xa0Store', '$22.02', 'Visit\\xa0Store', '+ more from Biblio...', '$23.32', 'Visit\\xa0Store', '$25.17', 'Visit\\xa0Store', '$40.70', 'Visit\\xa0Store', '+ more from Biblio...', '$48.18', 'Visit\\xa0Store', '', 'Abebooks', '\\n', '[+]', '$7.87', '', '$8.67', 'Visit\\xa0Store', '$8.99', 'Visit\\xa0Store', '$9.49', 'Visit\\xa0Store', '+ more from Abebooks...', '$9.49', 'Visit\\xa0Store', '$10.49', 'Visit\\xa0Store', '$10.98', 'Visit\\xa0Store', '', 'RedShelf', '\\n', '$7.99', '', '', 'eBooks.com', '\\n', '$7.99', 'Coupon', '', '', 'Apple iBooks', '\\n', '[+]', '$7.99', '', '', 'Alibris', '\\n', '[+]', '$8.31', '', '$12.98', 'Visit\\xa0Store', '$14.68', 'Visit\\xa0Store', '$14.96', 'Visit\\xa0Store', '+ more from Alibris...', '$15.05', 'Visit\\xa0Store', '$15.08', 'Visit\\xa0Store', '$15.08', 'Visit\\xa0Store', '+ more from Alibris...', '$15.08', 'Visit\\xa0Store', '$16.86', 'Visit\\xa0Store', '$17.32', 'Visit\\xa0Store', '+ more from Alibris...', '$17.44', 'Visit\\xa0Store', '$17.60', 'Visit\\xa0Store', '$18.18', 'Visit\\xa0Store', '+ more from Alibris...', '$18.36', 'Visit\\xa0Store', '$18.45', 'Visit\\xa0Store', '$19.03', 'Visit\\xa0Store', '+ more from Alibris...', '$19.61', 'Visit\\xa0Store', '$20.79', 'Visit\\xa0Store', '$23.98', 'Visit\\xa0Store', '+ more from Alibris...', '$23.98', 'Visit\\xa0Store', '$26.98', 'Visit\\xa0Store', '$28.15', 'Visit\\xa0Store', '+ more from Alibris...', '$28.16', 'Visit\\xa0Store', '$29.55', 'Visit\\xa0Store', '$35.51', 'Visit\\xa0Store', '', 'eCampus Marketplace', '\\n', '[+]', '$8.74', '', '$13.88', 'Visit\\xa0Store', '$15.75', 'Visit\\xa0Store', '$16.06', 'Visit\\xa0Store', '+ more from eCampus Marketplace...', '$16.16', 'Visit\\xa0Store', '$16.19', 'Visit\\xa0Store', '$16.19', 'Visit\\xa0Store', '+ more from eCampus Marketplace...', '$16.19', 'Visit\\xa0Store', '$16.56', 'Visit\\xa0Store', '$17.81', 'Visit\\xa0Store', '+ more from eCampus Marketplace...', '$18.15', 'Visit\\xa0Store', '$18.66', 'Visit\\xa0Store', '$18.96', 'Visit\\xa0Store', '+ more from eCampus Marketplace...', '$19.60', 'Visit\\xa0Store', '$19.90', 'Visit\\xa0Store', '', 'Amazon Marketplace', '\\n', '[+]', '$8.85', '', '$8.86', 'Visit\\xa0Store', '$9.98', 'Visit\\xa0Store', '$11.48', 'Visit\\xa0Store', '+ more from Amazon Marketplace...', '$11.48', 'Visit\\xa0Store', '$11.49', 'Visit\\xa0Store', '$11.99', 'Visit\\xa0Store', '+ more from Amazon Marketplace...', '$12.14', 'Visit\\xa0Store', '$13.03', 'Visit\\xa0Store', '$13.49', 'Visit\\xa0Store', '', 'TextbookX Marketplace', '\\n', '[+]', '$8.98', '', '$11.43', 'Visit\\xa0Store', '$11.46', 'Visit\\xa0Store', '$14.38', 'Visit\\xa0Store', '+ more from TextbookX Marketplace...', '$14.38', 'Visit\\xa0Store', '$14.38', 'Visit\\xa0Store', '$14.51', 'Visit\\xa0Store', '+ more from TextbookX Marketplace...', '$16.11', 'Visit\\xa0Store', '$16.11', 'Visit\\xa0Store', '$17.37', 'Visit\\xa0Store', '+ more from TextbookX Marketplace...', '$17.57', 'Visit\\xa0Store', '$17.57', 'Visit\\xa0Store', '$17.91', 'Visit\\xa0Store', '', 'Biblio', '\\n', '[+]', '$9.24', '', '$16.85', 'Visit\\xa0Store', '$23.98', 'Visit\\xa0Store', '$24.09', 'Visit\\xa0Store', '+ more from Biblio...', '$24.09', 'Visit\\xa0Store', '$24.09', 'Visit\\xa0Store', '$25.98', 'Visit\\xa0Store', '+ more from Biblio...', '$36.97', 'Visit\\xa0Store', '$54.98', 'Visit\\xa0Store', '$121.01', 'Visit\\xa0Store', '', 'Amazon Prime', '\\n', '[+]', '$9.50', '', '', 'eCampus', '\\n', '[+]', '$9.69', 'Coupon', '', '', 'Knetbooks', '\\n', '[+]', '$9.70', 'Coupon', '', '', 'BiggerBooks', '\\n', '[+]', '$9.98', 'Coupon', '', '', 'Abebooks', '\\n', '[+]', '$10.29', '', '', 'TextbookX Marketplace', '\\n', '[+]', '$10.82', '', '$16.07', 'Visit\\xa0Store', '$17.98', 'Visit\\xa0Store', '$18.29', 'Visit\\xa0Store', '+ more from TextbookX Marketplace...', '$18.39', 'Visit\\xa0Store', '$18.43', 'Visit\\xa0Store', '$18.43', 'Visit\\xa0Store', '+ more from TextbookX Marketplace...', '$18.43', 'Visit\\xa0Store', '', 'Amazon Marketplace', '\\n', '[+]', '$13.28', '', '$18.65', 'Visit\\xa0Store', '$18.83', 'Visit\\xa0Store', '$18.98', 'Visit\\xa0Store', '+ more from Amazon Marketplace...', '$19.41', 'Visit\\xa0Store', '$20.58', 'Visit\\xa0Store', '$20.76', 'Visit\\xa0Store', '+ more from Amazon Marketplace...', '$20.79', 'Visit\\xa0Store', '$20.79', 'Visit\\xa0Store', '$20.79', 'Visit\\xa0Store', '', 'B&N\\xa0Marketplace', '\\n', '$13.98', '', '', 'Textbooks Marketplace', '\\n', '[+]', '$13.98', '', '$15.33', 'Visit\\xa0Store', '$15.68', 'Visit\\xa0Store', '$15.96', 'Visit\\xa0Store', '+ more from Textbooks.com Marketplace...', '$18.33', 'Visit\\xa0Store', '$18.45', 'Visit\\xa0Store', '$18.49', 'Visit\\xa0Store', '+ more from Textbooks.com Marketplace...', '$19.04', 'Visit\\xa0Store', '$24.37', 'Visit\\xa0Store', '$24.97', 'Visit\\xa0Store', '', 'Amazon.ca Marketplace', '\\n', '$14.69', '', '', 'Shophity', '\\n', '$14.99', '', '', 'TextbookRush', '\\n', '[+]', '$15.41', '', '', 'Chegg', '\\n', '[+]', '$16.98', '', '', 'Wordery', '\\n', '$18.25', '', '', 'Chegg', '\\n', '$18.48', '', '', 'SuperBookDeals', '\\n', '[+]', '$18.92', '', '', 'TextbookX', '\\n', '$19.44', '', '', 'Amazon.com\\xa0Prime', '\\n', '$19.99', '', '', 'Book\\xa0Depository', '\\n', '$20.56', '', '', 'TextbookRush', '\\n', '$20.83', '', '', 'eCampus', '\\n', '[+]', '$22.03', 'Coupon', '', '', 'BiggerBooks', '\\n', '$22.04', 'Coupon', '', '', 'Powells', '\\n', '[+]', '$23.98', '', '', 'Barnes\\xa0&\\xa0Noble', '\\n', '$24.98', '', '', 'Amazon.ca Marketplace', '\\n', '$25.80', '', '', 'Amazon.com', '\\n', '$25.98', '', '', 'Amazon.ca', '\\n', '$31.75', '', 'Apress', 'Barnes\\xa0&\\xa0Noble\\xa0Nook', 'BooksRun', 'CampusBookRentals', 'iFlipd', 'informIT', 'National Underwriter', 'Palgrave', 'Pubgraphics Direct', 'Springer', 'TextbookRush Market', 'Textbooks.com', 'TextbookUnderground', 'VitalSource', 'Wolters Kluwer', 'More »']\n"
     ]
    }
   ],
   "source": [
    "import re\n",
    "allAmz = soup.select('a', class_=\"vendorname\")\n",
    "                     #text=(re.compile(\"Amazon Prime\")))\n",
    "text = [a.get_text() for a in allAmz]\n",
    "print(text)\n",
    "#print(text[611])\n",
    "#print(text[613])\n",
    "#len(text)\n"
   ]
  },
  {
   "cell_type": "code",
   "execution_count": null,
   "metadata": {},
   "outputs": [],
   "source": [
    "##lenght of text was 680 \n",
    "## amazonprime vendor name is in index [611] and the prime price was in [613]"
   ]
  },
  {
   "cell_type": "code",
   "execution_count": 60,
   "metadata": {},
   "outputs": [],
   "source": [
    "def getprice():\n",
    "    import re\n",
    "    x = []\n",
    "\n",
    "    allAmz = soup.select('a', class_=\"vendorname\")\n",
    "                    \n",
    "    text = [a.get_text() for a in allAmz]\n",
    "    for i in text:\n",
    "        if i.startswith( '$' ):\n",
    "            x.append(i)\n",
    "    print(x)"
   ]
  },
  {
   "cell_type": "code",
   "execution_count": null,
   "metadata": {},
   "outputs": [],
   "source": []
  }
 ],
 "metadata": {
  "kernelspec": {
   "display_name": "Python 3",
   "language": "python",
   "name": "python3"
  },
  "language_info": {
   "codemirror_mode": {
    "name": "ipython",
    "version": 3
   },
   "file_extension": ".py",
   "mimetype": "text/x-python",
   "name": "python",
   "nbconvert_exporter": "python",
   "pygments_lexer": "ipython3",
   "version": "3.7.3"
  }
 },
 "nbformat": 4,
 "nbformat_minor": 2
}
